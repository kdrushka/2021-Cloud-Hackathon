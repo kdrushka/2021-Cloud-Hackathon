{
 "cells": [
  {
   "cell_type": "markdown",
   "metadata": {},
   "source": [
    "# 02. Data Discovery with CMR-STAC API  \n",
    "\n",
    "## Timing  \n",
    "\n",
    "- Exercise: 30 min  \n",
    "\n",
    "## Summary  \n",
    "\n",
    "In this example we will access the NASA's Harmonized Landsat Sentinel-2 (HLS) version 2 assets, which are archived in cloud optimized geoTIFF (COG) format in the LP DAAC Cumulus cloud space. The COGs can be used like any other geoTIFF file, but have some added features that make them more efficient within the cloud data access paradigm. These features include: overviews and internal tiling. Below we will demonstrate how to leverage these features.  \n",
    "\n",
    "### But first, what is STAC?  \n",
    "\n",
    "[SpatioTemporal Asset Catalog (STAC)](https://stacspec.org/) is a specification that provides a common language for interpreting geospatial information in order to standardize indexing and discovering data.  \n",
    "\n",
    "The [STAC specification](https://stacspec.org/core.html) is made up of a collection of related, yet independent specifications that when used together provide search and discovery capabilities for remote assets.  \n",
    "\n",
    "#### Four STAC Specifications  \n",
    "                                                                                                                  \n",
    "[STAC Catalog](https://github.com/radiantearth/stac-spec/blob/master/catalog-spec/catalog-spec.md) (aka DAAC Archive)  \n",
    "[STAC Collection](https://github.com/radiantearth/stac-spec/blob/master/collection-spec/collection-spec.md) (aka Data Product)  \n",
    "[STAC Item](https://github.com/radiantearth/stac-spec/blob/master/item-spec/item-spec.md) (aka Granule)  \n",
    "[STAC API](https://github.com/radiantearth/stac-api-spec)  \n",
    "\n",
    "In the following sections, we will explore each of STAC element using NASA's Common Metadata Repository (CMR) STAC application programming interface (API), or [CMR-STAC API](https://github.com/nasa/cmr-stac) for short.  \n",
    "\n",
    "### CMR-STAC API  \n",
    "\n",
    "The [CMR-STAC](https://github.com/nasa/cmr-stac) API is NASA's implementation of the STAC API specification for all NASA data holdings within EOSDIS. The current implementation does not allow for querries accross the entire NASA catalog. Users must execute searches within provider catalogs (e.g., LPCLOUD) to find the STAC Items they are searching for. All the providers can be found at the CMR-STAC endpoint here: <https://cmr.earthdata.nasa.gov/stac/>.  \n",
    "\n",
    "In this exercise, we will query the **LPCLOUD** provider to identify STAC Items from the Harmonized Landsat Sentinel-2 (HLS) collection that fall within our region of interest (ROI) and within our specified time range.  \n",
    "\n",
    "## What you will learn from this tutorial  \n",
    "\n",
    "- how to connect to NASA CMR-STAC API using Python's `pystac-client`  \n",
    "- how to navigate CMR-STAC records  \n",
    "- how to read in a geojson file using `geopandas` to specify your region of interest\n",
    "- how to use the CMR-STAC API to search for data \n",
    "- how to perform post-search filtering of CMR-STAC API search result in Python  \n",
    "- how to extract and save data access URLs for geospatial assets \n",
    "\n",
    "This exercise can be found in the [2021 Cloud Hackathon Book](https://nasa-openscapes.github.io/2021-Cloud-Hackathon/tutorials/02_Data_Discovery_CMR-STAC_API.html)\n",
    "\n",
    "***\n",
    "\n",
    "## Import Required Packages"
   ]
  },
  {
   "cell_type": "code",
   "execution_count": null,
   "metadata": {},
   "outputs": [],
   "source": [
    "#"
   ]
  },
  {
   "cell_type": "markdown",
   "metadata": {},
   "source": [
    "## Explored available NASA Providers  "
   ]
  },
  {
   "cell_type": "code",
   "execution_count": null,
   "metadata": {},
   "outputs": [],
   "source": [
    "#"
   ]
  },
  {
   "cell_type": "markdown",
   "metadata": {},
   "source": [
    "### Connect to the CMR-STAC API"
   ]
  },
  {
   "cell_type": "code",
   "execution_count": null,
   "metadata": {},
   "outputs": [],
   "source": [
    "#"
   ]
  },
  {
   "cell_type": "markdown",
   "metadata": {},
   "source": [
    "We'll create a `providers` variable so we can take a deeper look into available data providers - subcategories are referred to as \"children\". We can then print them as a for loop."
   ]
  },
  {
   "cell_type": "code",
   "execution_count": null,
   "metadata": {},
   "outputs": [],
   "source": [
    "#"
   ]
  },
  {
   "cell_type": "markdown",
   "metadata": {},
   "source": [
    "## Connect to the `LPCLOUD` Provider/STAC Catalog\n",
    "\n",
    "For this next step we need the `provider title` (e.g., LPCLOUD) from above. We will add the provider to the end of the CMR-STAC API URL (i.e., `https://cmr.earthdata.nasa.gov/stac/`) to connect to the LPCLOUD STAC Catalog."
   ]
  },
  {
   "cell_type": "code",
   "execution_count": null,
   "metadata": {},
   "outputs": [],
   "source": [
    "#"
   ]
  },
  {
   "cell_type": "markdown",
   "metadata": {},
   "source": [
    "Since we are using a dedicated client (i.e., `pystac-client.Client`) to connect to our STAC Provider Catalog, we will have access to some useful internal methods and functions (e.g., `get_children()` or `get_all_items()`) we can use to get information from these objects. \n",
    "\n",
    "## List STAC Collections\n",
    "\n",
    "We'll create a `products` variable to view deeper in the STAC Catalog. "
   ]
  },
  {
   "cell_type": "code",
   "execution_count": null,
   "metadata": {},
   "outputs": [],
   "source": [
    "#"
   ]
  },
  {
   "cell_type": "markdown",
   "metadata": {},
   "source": [
    "### Print one of the STAC Collection records\n",
    "\n",
    "To view the `products` variable we just created, let's look at one entry as a dictionary. "
   ]
  },
  {
   "cell_type": "code",
   "execution_count": null,
   "metadata": {},
   "outputs": [],
   "source": [
    "#"
   ]
  },
  {
   "cell_type": "markdown",
   "metadata": {},
   "source": [
    "### Print the STAC Collection `id`s with their `title`  \n",
    "\n",
    "In the above output, `id` and `title` are two elements of interest that we can print for all `products` using a for loop.  "
   ]
  },
  {
   "cell_type": "code",
   "execution_count": null,
   "metadata": {},
   "outputs": [],
   "source": [
    "#"
   ]
  },
  {
   "cell_type": "markdown",
   "metadata": {},
   "source": [
    "## Search for Granules/STAC Items - Set up query parameters to submit to the CMR-STAC API\n",
    "\n",
    "We will define our ROI using a geojson file containing a small polygon feature in western Nebraska, USA. The geojson file is found in the **~/data** directory. We'll also specify the data collections and a time range for our example.\n",
    "\n",
    "### Read in a geojson file\n",
    "\n",
    "Reading in a geojson file with geopandas will return the geometry of our polygon (our ROI).\n",
    "\n",
    "**NOTE:** If you are running the notebook from the **tutorials-templates** directory, please use the following path to connect to the geojson file: **\"../tutorials/data/ne_w_agfields.geojson\"**"
   ]
  },
  {
   "cell_type": "code",
   "execution_count": null,
   "metadata": {},
   "outputs": [],
   "source": [
    "#"
   ]
  },
  {
   "cell_type": "markdown",
   "metadata": {},
   "source": [
    "### Visualize contents of geojson file\n",
    "\n",
    "We can use that geometry to visualize the polygon: here, a square. But wait for it –"
   ]
  },
  {
   "cell_type": "code",
   "execution_count": null,
   "metadata": {},
   "outputs": [],
   "source": [
    "#"
   ]
  },
  {
   "cell_type": "markdown",
   "metadata": {},
   "source": [
    "We can plot the polygon using the `geoviews` package that we imported as `gv` with 'bokeh' and 'matplotlib' extensions. The following has reasonable width, height, color, and line widths to view our polygon when it is overlayed on a base tile map. "
   ]
  },
  {
   "cell_type": "code",
   "execution_count": null,
   "metadata": {},
   "outputs": [],
   "source": [
    "#"
   ]
  },
  {
   "cell_type": "markdown",
   "metadata": {},
   "source": [
    "We will now start to specify the search criteria we are interested in, i.e, the **date range**, the **ROI**, and the **data collections**, that we will pass to the STAC API.\n",
    "\n",
    "### Extract the coordinates for the ROI"
   ]
  },
  {
   "cell_type": "code",
   "execution_count": null,
   "metadata": {},
   "outputs": [],
   "source": [
    "#"
   ]
  },
  {
   "cell_type": "markdown",
   "metadata": {},
   "source": [
    "So, what just happen there? Let's take a quick detour to break it down.\n",
    "\n",
    "<img src=../assets/images/Read_GeoJSON_Explained.png width=\"750\"/>\n",
    "\n",
    "### Specify date range\n",
    "\n",
    "Next up is to specify our date range using [ISO_8601 date formatting](https://en.wikipedia.org/wiki/ISO_8601). "
   ]
  },
  {
   "cell_type": "code",
   "execution_count": null,
   "metadata": {},
   "outputs": [],
   "source": [
    "#"
   ]
  },
  {
   "cell_type": "markdown",
   "metadata": {},
   "source": [
    "### Specify the STAC Collections\n",
    "\n",
    "STAC Collection is synonomous with what we usually consider a NASA data product. Desired STAC Collections are submitted to the search API as a list containing the collection `id`. We can use the `id`s that we printed from our `products` for loop above. Let's focus on S30 and L30 collections. "
   ]
  },
  {
   "cell_type": "code",
   "execution_count": null,
   "metadata": {},
   "outputs": [],
   "source": [
    "#"
   ]
  },
  {
   "cell_type": "markdown",
   "metadata": {},
   "source": [
    "## Search the CMR-STAC API with our search criteria\n",
    "\n",
    "Now we can put all our search criteria together using `catalog.search` from the `pystac_client` package."
   ]
  },
  {
   "cell_type": "code",
   "execution_count": null,
   "metadata": {},
   "outputs": [],
   "source": [
    "#"
   ]
  },
  {
   "cell_type": "markdown",
   "metadata": {},
   "source": [
    "### Print out how many STAC Items match our search query"
   ]
  },
  {
   "cell_type": "code",
   "execution_count": null,
   "metadata": {},
   "outputs": [],
   "source": [
    "#"
   ]
  },
  {
   "cell_type": "markdown",
   "metadata": {},
   "source": [
    "We now have a search object containing the STAC Items that matched our query. Now, let's pull out all of the STAC Items (as a PySTAC ItemCollection object) and explore the contents (i.e., the STAC Items)"
   ]
  },
  {
   "cell_type": "code",
   "execution_count": null,
   "metadata": {},
   "outputs": [],
   "source": [
    "#"
   ]
  },
  {
   "cell_type": "markdown",
   "metadata": {},
   "source": [
    "Let's list some of the `Items` from our `pystac item_collection`:"
   ]
  },
  {
   "cell_type": "code",
   "execution_count": null,
   "metadata": {},
   "outputs": [],
   "source": [
    "#"
   ]
  },
  {
   "cell_type": "markdown",
   "metadata": {},
   "source": [
    "We can view a single `Item` as a dictionary, as we did above with STAC `Collections`/`products`."
   ]
  },
  {
   "cell_type": "code",
   "execution_count": null,
   "metadata": {},
   "outputs": [],
   "source": [
    "#"
   ]
  },
  {
   "cell_type": "markdown",
   "metadata": {},
   "source": [
    "## Filtering STAC Items\n",
    "\n",
    "While the CMR-STAC API is a powerful search and discovery utility, it is still maturing and currently does not have the full gamut of filtering capabilities that the STAC API specification allows for. Hence, additional filtering is required if we want to filter by a property, for example cloud cover. Below we will loop through and filter the item_collection by a specified cloud cover as well as extract the band we'd need to do an Enhanced Vegetation Index (EVI) calculation for a future analysis.\n",
    "\n",
    "We'll make a `cloudcover` variable where we will set the maximum allowable cloud cover and extract the band links for those Items that match or are less than the max cloud cover."
   ]
  },
  {
   "cell_type": "code",
   "execution_count": null,
   "metadata": {},
   "outputs": [],
   "source": [
    "#"
   ]
  },
  {
   "cell_type": "markdown",
   "metadata": {},
   "source": [
    "We will also specify the STAC Assets (i.e., bands/layers) of interest for both the S30 and L30 collections (also in our `collections` variable above).\n",
    "\n",
    "In this hypothetical workflow, we'll extract the bands needed to calculate an enhanced vegetation index (EVI). Thus, the band needed include red, near infrared (NIR), and blue. We’ll also extract a quality band (i.e., Fmask) that we’d eventually use to perform per-pixel quality filtering.  \n",
    "\n",
    "Notice that the band ids are in some case not one-to-one between the S30 and the L30 product. This is evident in the NIR band for each product where S30’s NIR band id is **B8A** and L30’s is **B05**. Note, the S30 product has an additional NIR band with a band id of **B08**, but the spectral ranges between **B8A** and **B05** are more closely aligned. Visit the [HLS Overview](https://lpdaac.usgs.gov/data/get-started-data/collection-overview/missions/harmonized-landsat-sentinel-2-hls-overview/#hls-spectral-bands) page to learn more about HLS spectral bands.  "
   ]
  },
  {
   "cell_type": "code",
   "execution_count": null,
   "metadata": {},
   "outputs": [],
   "source": [
    "#"
   ]
  },
  {
   "cell_type": "markdown",
   "metadata": {},
   "source": [
    "And now to loop through and filter the `item_collection` by cloud cover and bands:"
   ]
  },
  {
   "cell_type": "code",
   "execution_count": null,
   "metadata": {},
   "outputs": [],
   "source": [
    "#"
   ]
  },
  {
   "cell_type": "markdown",
   "metadata": {},
   "source": [
    "The filtering done in the previous steps produces a list of links to STAC Assets. Let's print out the first ten links."
   ]
  },
  {
   "cell_type": "code",
   "execution_count": null,
   "metadata": {},
   "outputs": [],
   "source": [
    "#"
   ]
  },
  {
   "cell_type": "markdown",
   "metadata": {},
   "source": [
    "**NOTE** that HLS data is mapped to the Universal Transverse Mercator (UTM) projection and is tiled using the Sentinel-2 Military Grid Reference System (MGRS) UTM grid. Notice that in the list of links we have multiple tiles, i.e. **T14TKL** & **T13TGF**, that intersect with our region of interest. In this case, these two tiles represent neighboring UTM zones. The tiles can be discern from the file name, which is the last element in a link (far right) following the last forward slash (/) - e.g., **HLS.L30.T14TKL.2021133T172406.v1.5.B04.tif**. The figure below explains where to find the tile/UTM zone from the file name.\n",
    "\n",
    "<img src=../assets/images/HLS_Filename_Explained.png width=\"750\"/>\n",
    " \n",
    "We will now split the list of links into separate logical sub-lists. \n",
    "\n",
    "## Split Data Links List into Logical Groupings\n",
    "\n",
    "We have a list of links to data assets that meet our search and filtering criteria. Below we'll split our list from above into lists first by tile/UTM zone and then further by individual bands bands. The commands that follow will do the splitting with python routines.  \n",
    "\n",
    "### Split by UTM tile specified in the file name (e.g., T14TKL & T13TGF)"
   ]
  },
  {
   "cell_type": "code",
   "execution_count": null,
   "metadata": {},
   "outputs": [],
   "source": [
    "#"
   ]
  },
  {
   "cell_type": "code",
   "execution_count": null,
   "metadata": {},
   "outputs": [],
   "source": [
    "#"
   ]
  },
  {
   "cell_type": "markdown",
   "metadata": {},
   "source": [
    "#### Print dictionary keys and values, i.e. the data links"
   ]
  },
  {
   "cell_type": "code",
   "execution_count": null,
   "metadata": {},
   "outputs": [],
   "source": [
    "#"
   ]
  },
  {
   "cell_type": "code",
   "execution_count": null,
   "metadata": {},
   "outputs": [],
   "source": [
    "#"
   ]
  },
  {
   "cell_type": "markdown",
   "metadata": {},
   "source": [
    "Now we will create a separate list of data links for each tile"
   ]
  },
  {
   "cell_type": "code",
   "execution_count": null,
   "metadata": {},
   "outputs": [],
   "source": [
    "#"
   ]
  },
  {
   "cell_type": "markdown",
   "metadata": {},
   "source": [
    "#### Print band/layer links for HLS tile T13TGF"
   ]
  },
  {
   "cell_type": "code",
   "execution_count": null,
   "metadata": {},
   "outputs": [],
   "source": [
    "#"
   ]
  },
  {
   "cell_type": "markdown",
   "metadata": {},
   "source": [
    "### Split the links by band"
   ]
  },
  {
   "cell_type": "code",
   "execution_count": null,
   "metadata": {},
   "outputs": [],
   "source": [
    "#"
   ]
  },
  {
   "cell_type": "code",
   "execution_count": null,
   "metadata": {},
   "outputs": [],
   "source": [
    "#"
   ]
  },
  {
   "cell_type": "code",
   "execution_count": null,
   "metadata": {},
   "outputs": [],
   "source": [
    "#"
   ]
  },
  {
   "cell_type": "code",
   "execution_count": null,
   "metadata": {},
   "outputs": [],
   "source": [
    "#"
   ]
  },
  {
   "cell_type": "markdown",
   "metadata": {},
   "source": [
    "## Save links to a text file\n",
    "\n",
    "To complete this exercise, we will save the individual link lists as separate text files with descriptive names.\n",
    "\n",
    "**NOTE:** If you are running the notebook from the **tutorials-templates** directory, please use the following path to write to the data directory: **\"../tutorials/data/{name}\"**\n",
    "\n",
    "### Write links from CMR-STAC API to a file"
   ]
  },
  {
   "cell_type": "code",
   "execution_count": null,
   "metadata": {},
   "outputs": [],
   "source": [
    "#"
   ]
  },
  {
   "cell_type": "markdown",
   "metadata": {},
   "source": [
    "### Write links to file for S3 access"
   ]
  },
  {
   "cell_type": "code",
   "execution_count": null,
   "metadata": {},
   "outputs": [],
   "source": [
    "#"
   ]
  },
  {
   "cell_type": "markdown",
   "metadata": {},
   "source": [
    "***\n",
    "\n",
    "## Resources  \n",
    "\n",
    "- [STAC Specification Webpage](https://stacspec.org/)\n",
    "- [STAC API Documentation](https://stacspec.org/STAC-api.html)\n",
    "- [CMR-STAC API Github](https://github.com/nasa/cmr-stac)\n",
    "- [PySTAC Client Documentation](https://pystac-client.readthedocs.io/en/latest/index.html)\n",
    "- <https://stackoverflow.com/questions/26367812/appending-to-list-in-python-dictionary>\n",
    "- [Geopandas](https://geopandas.org/en/stable/docs/user_guide.html)\n",
    "- [HLS Overview](https://lpdaac.usgs.gov/data/get-started-data/collection-overview/missions/harmonized-landsat-sentinel-2-hls-overview/)\n"
   ]
  }
 ],
 "metadata": {
  "kernelspec": {
   "display_name": "Python 3 (ipykernel)",
   "language": "python",
   "name": "python3"
  },
  "language_info": {
   "codemirror_mode": {
    "name": "ipython",
    "version": 3
   },
   "file_extension": ".py",
   "mimetype": "text/x-python",
   "name": "python",
   "nbconvert_exporter": "python",
   "pygments_lexer": "ipython3",
   "version": "3.9.7"
  }
 },
 "nbformat": 4,
 "nbformat_minor": 4
}
